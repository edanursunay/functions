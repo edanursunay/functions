{
 "cells": [
  {
   "cell_type": "markdown",
   "metadata": {},
   "source": [
    "**Sayı Tahmin Oyunu**\n",
    "\n",
    "* Random modülü ile bir sayı alınır\n",
    "* guess adında bir fonksiyon yazılacak\n",
    "* input ile kullanıcıdan tahminde bulunması istenip ardından yönlendirmeler yapılacak"
   ]
  },
  {
   "cell_type": "markdown",
   "metadata": {},
   "source": [
    "Sayı tahmin oyununu iki farklı versiyonda yazıcaz.\n",
    "* sayıyı bilgisayara seçtirdiğimiz\n",
    "* sayıyı bizim seçtiğimiz "
   ]
  },
  {
   "cell_type": "code",
   "execution_count": 7,
   "metadata": {},
   "outputs": [
    {
     "name": "stdout",
     "output_type": "stream",
     "text": [
      "Üzgünüm, daha büyük bir tahminde bulunmalısınız.\n",
      "Üzgünüm, daha büyük bir tahminde bulunmalısınız.\n",
      "üzgünüm, daha küçük bir tahminde bulunmalısınız.\n",
      "üzgünüm, daha küçük bir tahminde bulunmalısınız.\n",
      "üzgünüm, daha küçük bir tahminde bulunmalısınız.\n",
      "üzgünüm, daha küçük bir tahminde bulunmalısınız.\n",
      "Tebrikler, doğru tahmin!\n"
     ]
    }
   ],
   "source": [
    "#sayıyı bilgisayarın seçtiği oyun\n",
    "\n",
    "from random import randint\n",
    "\n",
    "def guess(number):\n",
    "    user_number = int(input(\"Sayı tahmin oyunu için 1-100 arasında bir tahminde bulun\"))\n",
    "    while number != user_number:\n",
    "        if number < user_number:\n",
    "            print(\"üzgünüm, daha küçük bir tahminde bulunmalısınız.\")\n",
    "        else:\n",
    "            print(\"Üzgünüm, daha büyük bir tahminde bulunmalısınız.\")\n",
    "        user_number = int(input(\"Lütfen, yeniden bir tahminde bulunun!\"))\n",
    "    else:\n",
    "        print(\"Tebrikler, doğru tahmin!\")\n",
    "\n",
    "guess(randint(1, 100))"
   ]
  },
  {
   "cell_type": "code",
   "execution_count": 10,
   "metadata": {},
   "outputs": [
    {
     "name": "stdout",
     "output_type": "stream",
     "text": [
      "Tebrikler, doğru tahmin\n"
     ]
    }
   ],
   "source": [
    "#sayıyı bizim seçtiğimiz oyun\n",
    "\n",
    "import random\n",
    "\n",
    "def computer_guess(x):\n",
    "    start = 1\n",
    "    end = 100\n",
    "    result = \"\"\n",
    "    while result != \"d\":\n",
    "        guess = random.randint(start, end)\n",
    "\n",
    "        result = input(f\"{guess} değeri aklından tuttuğun değerden büyükse(b) küçükse (k), doğruysa (d) giriniz.\").lower()\n",
    "        if result == \"b\":\n",
    "            end = guess - 1\n",
    "        elif result == \"k\":\n",
    "            start = guess + 1\n",
    "    print(\"Tebrikler, doğru tahmin\")\n",
    "    \n",
    "computer_guess(29)"
   ]
  },
  {
   "cell_type": "markdown",
   "metadata": {},
   "source": [
    "**Taş, kağıt, makas oyun kuralları**\n",
    "* Kağıt taşı yener\n",
    "* Taş makası yener\n",
    "* Makas kağıdı yener"
   ]
  },
  {
   "cell_type": "code",
   "execution_count": 11,
   "metadata": {},
   "outputs": [
    {
     "name": "stdout",
     "output_type": "stream",
     "text": [
      "Taş Kağıt Makas Oyununa Hoş geldiniz!\n",
      "-------------------------------------\n",
      "\n",
      "1 - Taş\n",
      "2 - Kağıt \n",
      "3 - Makas\n",
      "Oyundan çıkmak isterseniz bu değerler dışında bir değer giriniz\n",
      "Bilgisayarın Seçimi: 3\n",
      "\n",
      "Kazanan: Kullanıcı\n",
      "\n",
      "1 - Taş\n",
      "2 - Kağıt \n",
      "3 - Makas\n",
      "Oyundan çıkmak isterseniz bu değerler dışında bir değer giriniz\n",
      "Bilgisayarın Seçimi: 3\n",
      "\n",
      "Kazanan: Bilgisayar\n",
      "\n",
      "1 - Taş\n",
      "2 - Kağıt \n",
      "3 - Makas\n",
      "Oyundan çıkmak isterseniz bu değerler dışında bir değer giriniz\n",
      "\n",
      "\n",
      "Kullanıcı skoru 100 - Bilgisayarın skoru 100\n",
      "Oyun Berabere\n"
     ]
    }
   ],
   "source": [
    "import random\n",
    "player_score = computer_score = 0\n",
    "computer_choice = 0\n",
    "\n",
    "def print_result(winner = \"Bilgisayar\"):\n",
    "    print(f\"Bilgisayarın Seçimi: {computer_choice}\\n\\nKazanan: {winner}\")\n",
    "    global player_score, computer_score\n",
    "    if winner == \"Bilgisayar\":\n",
    "        computer_score += 100\n",
    "    else:\n",
    "        player_score += 100\n",
    "\n",
    "print(\"Taş Kağıt Makas Oyununa Hoş geldiniz!\\n\" + \"-\"*37)\n",
    "\n",
    "while True:\n",
    "    print(\"\\n1 - Taş\\n2 - Kağıt \\n3 - Makas\\nOyundan çıkmak isterseniz bu değerler dışında bir değer giriniz\")\n",
    "    player_choice = int(input(\"Seçiminizi yapınız\"))\n",
    "    computer_choice = random.choice([1, 2, 3])\n",
    "\n",
    "    if player_choice == computer_choice:\n",
    "        print(\"Beraber, yeniden oynayınız\")\n",
    "    elif player_choice == 1:\n",
    "        if computer_choice == 2:\n",
    "            print_result()\n",
    "        elif computer_choice == 3:\n",
    "            print_result(\"Kullanıcı\")\n",
    "    elif player_choice == 2:\n",
    "        if computer_choice == 1:\n",
    "            print_result(\"Kullanıcı\")\n",
    "        elif computer_choice == 3:\n",
    "            print_result()\n",
    "    elif player_choice == 3:\n",
    "        if computer_choice == 1:\n",
    "            print_result()\n",
    "        elif computer_choice == 2:\n",
    "            print_result(\"Kullanıcı\")     \n",
    "    else:\n",
    "        break\n",
    "\n",
    "print(f\"\\n\\nKullanıcı skoru {player_score} - Bilgisayarın skoru {computer_score}\")\n",
    "if player_score > computer_score: print(\"Kazanan Kullanıcı\")\n",
    "elif player_score < computer_score: print(\"Kazanan Bilgisayar\")\n",
    "else: print(\"Oyun Berabere\")"
   ]
  }
 ],
 "metadata": {
  "kernelspec": {
   "display_name": "Python 3.10.1 64-bit",
   "language": "python",
   "name": "python3"
  },
  "language_info": {
   "codemirror_mode": {
    "name": "ipython",
    "version": 3
   },
   "file_extension": ".py",
   "mimetype": "text/x-python",
   "name": "python",
   "nbconvert_exporter": "python",
   "pygments_lexer": "ipython3",
   "version": "3.10.1"
  },
  "orig_nbformat": 4,
  "vscode": {
   "interpreter": {
    "hash": "8728e009dc4827959d0cd0ea26bc6c3b22d334d9e49d904647d9110e18c0d7ef"
   }
  }
 },
 "nbformat": 4,
 "nbformat_minor": 2
}
